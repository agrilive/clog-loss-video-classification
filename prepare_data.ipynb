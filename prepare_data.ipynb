{
 "metadata": {
  "language_info": {
   "codemirror_mode": {
    "name": "ipython",
    "version": 3
   },
   "file_extension": ".py",
   "mimetype": "text/x-python",
   "name": "python",
   "nbconvert_exporter": "python",
   "pygments_lexer": "ipython3",
   "version": "3.7.5-final"
  },
  "orig_nbformat": 2,
  "kernelspec": {
   "name": "tensorflow-gpu",
   "display_name": "tensorflow-gpu"
  }
 },
 "nbformat": 4,
 "nbformat_minor": 2,
 "cells": [
  {
   "cell_type": "code",
   "execution_count": 1,
   "metadata": {},
   "outputs": [
    {
     "output_type": "execute_result",
     "data": {
      "text/plain": "     filename  stalled\n0  100109.mp4        1\n1  100289.mp4        1\n2  100588.mp4        0\n3  100626.mp4        0\n4  100750.mp4        0",
      "text/html": "<div>\n<style scoped>\n    .dataframe tbody tr th:only-of-type {\n        vertical-align: middle;\n    }\n\n    .dataframe tbody tr th {\n        vertical-align: top;\n    }\n\n    .dataframe thead th {\n        text-align: right;\n    }\n</style>\n<table border=\"1\" class=\"dataframe\">\n  <thead>\n    <tr style=\"text-align: right;\">\n      <th></th>\n      <th>filename</th>\n      <th>stalled</th>\n    </tr>\n  </thead>\n  <tbody>\n    <tr>\n      <th>0</th>\n      <td>100109.mp4</td>\n      <td>1</td>\n    </tr>\n    <tr>\n      <th>1</th>\n      <td>100289.mp4</td>\n      <td>1</td>\n    </tr>\n    <tr>\n      <th>2</th>\n      <td>100588.mp4</td>\n      <td>0</td>\n    </tr>\n    <tr>\n      <th>3</th>\n      <td>100626.mp4</td>\n      <td>0</td>\n    </tr>\n    <tr>\n      <th>4</th>\n      <td>100750.mp4</td>\n      <td>0</td>\n    </tr>\n  </tbody>\n</table>\n</div>"
     },
     "metadata": {},
     "execution_count": 1
    }
   ],
   "source": [
    "import pandas as pd\n",
    "train_labels = pd.read_csv('train_labels.csv')\n",
    "train_metadata = pd.read_csv('train_metadata.csv')\n",
    "train_metadata = train_metadata.loc[train_metadata['micro'] == True]\n",
    "train_metadata = train_metadata[['filename']].reset_index().drop('index',axis=1)\n",
    "train_labels = pd.merge(left=train_metadata, right=train_labels, left_on='filename', right_on='filename')\n",
    "train_labels.head()"
   ]
  },
  {
   "cell_type": "code",
   "execution_count": 5,
   "metadata": {},
   "outputs": [],
   "source": [
    "import os \n",
    "\n",
    "path = 'micro/stalled' # stalled, unstalled \n",
    "try: \n",
    "    os.mkdir(path) \n",
    "except OSError as error: \n",
    "    print(error) "
   ]
  },
  {
   "cell_type": "code",
   "execution_count": 12,
   "metadata": {},
   "outputs": [],
   "source": [
    "def path(row):\n",
    "   if row['stalled'] == 1 :\n",
    "      return os.path.join('stalled', row['filename'])\n",
    "   else:\n",
    "      return os.path.join('unstalled', row['filename'])\n",
    "train_labels['newpath'] = train_labels.apply(lambda row: path(row), axis=1)"
   ]
  },
  {
   "cell_type": "code",
   "execution_count": 15,
   "metadata": {},
   "outputs": [],
   "source": [
    "import shutil\n",
    "\n",
    "BASE = 'C:/Users/weich/Downloads/SMU2020/ClogLoss/data'\n",
    "for idx, row in train_labels.iterrows():\n",
    "    try:\n",
    "        shutil.move(os.path.join(BASE, 'micro', row['filename']), os.path.join(BASE, 'micro', row['newpath']))\n",
    "    except shutil.Error as error:\n",
    "        print(error)"
   ]
  },
  {
   "cell_type": "code",
   "execution_count": 1,
   "metadata": {},
   "outputs": [
    {
     "output_type": "execute_result",
     "data": {
      "text/plain": "(['stalled', 'unstalled'], 2)"
     },
     "metadata": {},
     "execution_count": 1
    }
   ],
   "source": [
    "import os\n",
    "\n",
    "path2data = \"data\"\n",
    "sub_folder = \"micro\"\n",
    "sub_folder_jpg = \"micro_jpg\"\n",
    "path2aCatgs = os.path.join(path2data, sub_folder)\n",
    "\n",
    "listOfCategories = os.listdir(path2aCatgs)\n",
    "listOfCategories, len(listOfCategories)"
   ]
  },
  {
   "cell_type": "code",
   "execution_count": 2,
   "metadata": {
    "tags": []
   },
   "outputs": [
    {
     "output_type": "stream",
     "name": "stdout",
     "text": "category: stalled\nnumber of sub-folders: 706\n--------------------------------------------------\ncategory: unstalled\nnumber of sub-folders: 1693\n--------------------------------------------------\n"
    }
   ],
   "source": [
    "for cat in listOfCategories:\n",
    "    print(\"category:\", cat)\n",
    "    path2acat = os.path.join(path2aCatgs, cat)\n",
    "    listOfSubs = os.listdir(path2acat)\n",
    "    print(\"number of sub-folders:\", len(listOfSubs))\n",
    "    print(\"-\"*50)"
   ]
  },
  {
   "cell_type": "code",
   "execution_count": 3,
   "metadata": {},
   "outputs": [],
   "source": [
    "import utils"
   ]
  },
  {
   "cell_type": "code",
   "execution_count": 6,
   "metadata": {
    "tags": []
   },
   "outputs": [],
   "source": [
    "extension = \".mp4\"\n",
    "n_frames = 16\n",
    "for root, dirs, files in os.walk(path2aCatgs, topdown=False):\n",
    "    for name in files:\n",
    "        if extension not in name:\n",
    "            continue\n",
    "        path2vid = os.path.join(root, name)\n",
    "        frames, vlen = utils.get_frames(path2vid, n_frames= n_frames)\n",
    "        path2store = path2vid.replace(sub_folder, sub_folder_jpg)\n",
    "        path2store = path2store.replace(extension, \"\")\n",
    "        # print(path2store)\n",
    "        os.makedirs(path2store, exist_ok= True)\n",
    "        utils.store_frames(frames, path2store)\n",
    "    # print(\"-\"*50)"
   ]
  },
  {
   "cell_type": "code",
   "execution_count": null,
   "metadata": {},
   "outputs": [],
   "source": []
  }
 ]
}